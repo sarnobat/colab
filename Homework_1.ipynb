{
  "nbformat": 4,
  "nbformat_minor": 0,
  "metadata": {
    "colab": {
      "provenance": [],
      "authorship_tag": "ABX9TyPsH1ScZ7PqX5OiF9/omAM5",
      "include_colab_link": true
    },
    "kernelspec": {
      "name": "python3",
      "display_name": "Python 3"
    },
    "language_info": {
      "name": "python"
    }
  },
  "cells": [
    {
      "cell_type": "markdown",
      "metadata": {
        "id": "view-in-github",
        "colab_type": "text"
      },
      "source": [
        "<a href=\"https://colab.research.google.com/github/sarnobat/colab/blob/main/Homework_1.ipynb\" target=\"_parent\"><img src=\"https://colab.research.google.com/assets/colab-badge.svg\" alt=\"Open In Colab\"/></a>"
      ]
    },
    {
      "cell_type": "code",
      "execution_count": 1,
      "metadata": {
        "colab": {
          "base_uri": "https://localhost:8080/"
        },
        "id": "uTnqlCGf3aGG",
        "outputId": "b31e9728-100f-408d-bf6c-f2afc488d0b5"
      },
      "outputs": [
        {
          "output_type": "stream",
          "name": "stdout",
          "text": [
            "Hello\n"
          ]
        }
      ],
      "source": [
        "print(\"Hello\")"
      ]
    },
    {
      "cell_type": "markdown",
      "source": [
        "### Matrix Multiplication"
      ],
      "metadata": {
        "id": "WGBNnigV4Y6v"
      }
    },
    {
      "cell_type": "code",
      "source": [
        "import numpy as np\n",
        "\n",
        "# input two matrices\n",
        "mat1 = ([1, 6, 5],[3 ,4, 8],[2, 12, 3])\n",
        "mat2 = ([3, 4, 6],[5, 6, 7],[6,56, 7])\n",
        "\n",
        "# This will return dot product\n",
        "res = np.dot(mat1,mat2)\n",
        "\n",
        "\n",
        "# print resulted matrix\n",
        "print(res)\n"
      ],
      "metadata": {
        "id": "xn-VLK0K4XpT"
      },
      "execution_count": null,
      "outputs": []
    }
  ]
}